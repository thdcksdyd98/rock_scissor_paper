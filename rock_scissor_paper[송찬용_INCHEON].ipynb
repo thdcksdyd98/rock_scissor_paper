{
 "cells": [
  {
   "cell_type": "code",
   "execution_count": 1,
   "id": "expired-model",
   "metadata": {},
   "outputs": [
    {
     "name": "stdout",
     "output_type": "stream",
     "text": [
      "PIL 라이브러리 import 완료!\n"
     ]
    }
   ],
   "source": [
    "from PIL import Image\n",
    "import os, glob\n",
    "\n",
    "print(\"PIL 라이브러리 import 완료!\")"
   ]
  },
  {
   "cell_type": "code",
   "execution_count": 6,
   "id": "muslim-royal",
   "metadata": {},
   "outputs": [
    {
     "name": "stdout",
     "output_type": "stream",
     "text": [
      "1933  images to be resized.\n",
      "1933  images resized.\n",
      "가위 이미지 resize 완료!\n"
     ]
    }
   ],
   "source": [
    "import os\n",
    "\n",
    "def resize_images(img_path):\n",
    "    images=glob.glob(img_path + \"/*.jpg\")  \n",
    "    \n",
    "    print(len(images), \" images to be resized.\")\n",
    "\n",
    "    # 파일마다 모두 28x28 사이즈로 바꾸어 저장합니다.\n",
    "    target_size=(28,28)\n",
    "    for img in images:\n",
    "        old_img=Image.open(img)\n",
    "        new_img=old_img.resize(target_size,Image.ANTIALIAS)\n",
    "        new_img.save(img, \"JPEG\")\n",
    "    \n",
    "    print(len(images), \" images resized.\")\n",
    "\n",
    "# 가위 이미지가 저장된 디렉토리 아래의 모든 jpg 파일을 읽어들여서\n",
    "image_dir_path = os.getenv(\"HOME\") + \"/aiffel/rock_scissor_paper/scissor\"\n",
    "resize_images(image_dir_path)\n",
    "\n",
    "print(\"가위 이미지 resize 완료!\")"
   ]
  },
  {
   "cell_type": "code",
   "execution_count": 7,
   "id": "pending-testing",
   "metadata": {},
   "outputs": [
    {
     "name": "stdout",
     "output_type": "stream",
     "text": [
      "2032  images to be resized.\n",
      "2032  images resized.\n"
     ]
    }
   ],
   "source": [
    "# 보 이미지가 저장된 디렉토리 아래의 모든 jpg 파일을 읽어들여서\n",
    "image_dir_path = os.getenv(\"HOME\") + \"/aiffel/rock_scissor_paper/paper\"\n",
    "\n",
    "# 파일마다 모두 28x28 사이즈로 바꾸어 저장합니다.\n",
    "resize_images(image_dir_path)"
   ]
  },
  {
   "cell_type": "code",
   "execution_count": 8,
   "id": "boolean-accessory",
   "metadata": {},
   "outputs": [
    {
     "name": "stdout",
     "output_type": "stream",
     "text": [
      "2034  images to be resized.\n",
      "2034  images resized.\n"
     ]
    }
   ],
   "source": [
    "# 바위 이미지가 저장된 디렉토리 아래의 모든 jpg 파일을 읽어들여서\n",
    "image_dir_path = os.getenv(\"HOME\") + \"/aiffel/rock_scissor_paper/rock\"\n",
    "\n",
    "# 파일마다 모두 28x28 사이즈로 바꾸어 저장합니다.\n",
    "resize_images(image_dir_path)"
   ]
  },
  {
   "cell_type": "code",
   "execution_count": 9,
   "id": "eastern-snake",
   "metadata": {},
   "outputs": [
    {
     "name": "stdout",
     "output_type": "stream",
     "text": [
      "학습데이터(x_train)의 이미지 개수는 5999 입니다.\n",
      "x_train shape: (5999, 28, 28, 3)\n",
      "y_train shape: (5999,)\n"
     ]
    }
   ],
   "source": [
    "import numpy as np\n",
    "\n",
    "def load_data(img_path, number_of_data=5999):  # 가위바위보 이미지 개수 총합에 주의하세요.\n",
    "    # 가위 : 0, 바위 : 1, 보 : 2\n",
    "    img_size=28\n",
    "    color=3\n",
    "    #이미지 데이터와 라벨(가위 : 0, 바위 : 1, 보 : 2) 데이터를 담을 행렬(matrix) 영역을 생성합니다.\n",
    "    imgs=np.zeros(number_of_data*img_size*img_size*color,dtype=np.int32).reshape(number_of_data,img_size,img_size,color)\n",
    "    labels=np.zeros(number_of_data,dtype=np.int32)\n",
    "\n",
    "    idx=0\n",
    "    for file in glob.iglob(img_path+'/scissor/*.jpg'):\n",
    "        img = np.array(Image.open(file),dtype=np.int32)\n",
    "        imgs[idx,:,:,:]=img    # 데이터 영역에 이미지 행렬을 복사\n",
    "        labels[idx]=0   # 가위 : 0\n",
    "        idx=idx+1\n",
    "\n",
    "    for file in glob.iglob(img_path+'/rock/*.jpg'):\n",
    "        img = np.array(Image.open(file),dtype=np.int32)\n",
    "        imgs[idx,:,:,:]=img    # 데이터 영역에 이미지 행렬을 복사\n",
    "        labels[idx]=1   # 바위 : 1\n",
    "        idx=idx+1  \n",
    "    \n",
    "    for file in glob.iglob(img_path+'/paper/*.jpg'):\n",
    "        img = np.array(Image.open(file),dtype=np.int32)\n",
    "        imgs[idx,:,:,:]=img    # 데이터 영역에 이미지 행렬을 복사\n",
    "        labels[idx]=2   # 보 : 2\n",
    "        idx=idx+1\n",
    "        \n",
    "    print(\"학습데이터(x_train)의 이미지 개수는\", idx,\"입니다.\")\n",
    "    return imgs, labels\n",
    "\n",
    "image_dir_path = os.getenv(\"HOME\") + \"/aiffel/rock_scissor_paper\"\n",
    "(x_train, y_train)=load_data(image_dir_path)\n",
    "x_train_norm = x_train/255.0   # 입력은 0~1 사이의 값으로 정규화\n",
    "\n",
    "print(\"x_train shape: {}\".format(x_train.shape))\n",
    "print(\"y_train shape: {}\".format(y_train.shape))"
   ]
  },
  {
   "cell_type": "code",
   "execution_count": 10,
   "id": "passive-athens",
   "metadata": {},
   "outputs": [
    {
     "name": "stdout",
     "output_type": "stream",
     "text": [
      "PIL 라이브러리 import 완료!\n"
     ]
    }
   ],
   "source": [
    "from PIL import Image\n",
    "import os, glob\n",
    "\n",
    "print(\"PIL 라이브러리 import 완료!\")"
   ]
  },
  {
   "cell_type": "code",
   "execution_count": 15,
   "id": "binding-canon",
   "metadata": {},
   "outputs": [
    {
     "name": "stdout",
     "output_type": "stream",
     "text": [
      "Model: \"sequential_1\"\n",
      "_________________________________________________________________\n",
      "Layer (type)                 Output Shape              Param #   \n",
      "=================================================================\n",
      "conv2d_2 (Conv2D)            (None, 26, 26, 32)        896       \n",
      "_________________________________________________________________\n",
      "max_pooling2d_2 (MaxPooling2 (None, 13, 13, 32)        0         \n",
      "_________________________________________________________________\n",
      "conv2d_3 (Conv2D)            (None, 11, 11, 64)        18496     \n",
      "_________________________________________________________________\n",
      "max_pooling2d_3 (MaxPooling2 (None, 5, 5, 64)          0         \n",
      "_________________________________________________________________\n",
      "flatten_1 (Flatten)          (None, 1600)              0         \n",
      "_________________________________________________________________\n",
      "dense_2 (Dense)              (None, 32)                51232     \n",
      "_________________________________________________________________\n",
      "dense_3 (Dense)              (None, 3)                 99        \n",
      "=================================================================\n",
      "Total params: 70,723\n",
      "Trainable params: 70,723\n",
      "Non-trainable params: 0\n",
      "_________________________________________________________________\n"
     ]
    }
   ],
   "source": [
    "# 설계\n",
    "\n",
    "import tensorflow as tf\n",
    "from tensorflow import keras\n",
    "import numpy as np\n",
    "\n",
    "# model을 직접 만들어 보세요.\n",
    "# Hint! model의 입력/출력부에 특히 유의해 주세요. 가위바위보 데이터셋은 MNIST 데이터셋과 어떤 점이 달라졌나요?\n",
    "n_channel_1=32\n",
    "n_channel_2=64\n",
    "n_dense=32\n",
    "n_train_epoch=50\n",
    "\n",
    "model=keras.models.Sequential()\n",
    "model.add(keras.layers.Conv2D(n_channel_1, (3,3), activation='relu', input_shape=(28,28,3)))\n",
    "model.add(keras.layers.MaxPool2D(2,2))\n",
    "model.add(keras.layers.Conv2D(n_channel_2, (3,3), activation='relu'))\n",
    "model.add(keras.layers.MaxPooling2D((2,2)))\n",
    "model.add(keras.layers.Flatten())\n",
    "model.add(keras.layers.Dense(n_dense, activation='relu'))\n",
    "model.add(keras.layers.Dense(3, activation='softmax'))\n",
    "\n",
    "model.summary()"
   ]
  },
  {
   "cell_type": "code",
   "execution_count": 16,
   "id": "allied-composer",
   "metadata": {},
   "outputs": [
    {
     "name": "stdout",
     "output_type": "stream",
     "text": [
      "Epoch 1/50\n",
      "188/188 [==============================] - 1s 4ms/step - loss: 9.5863 - accuracy: 0.4294\n",
      "Epoch 2/50\n",
      "188/188 [==============================] - 1s 3ms/step - loss: 0.6162 - accuracy: 0.7351\n",
      "Epoch 3/50\n",
      "188/188 [==============================] - 1s 3ms/step - loss: 0.4162 - accuracy: 0.8244\n",
      "Epoch 4/50\n",
      "188/188 [==============================] - 1s 3ms/step - loss: 0.3299 - accuracy: 0.8672\n",
      "Epoch 5/50\n",
      "188/188 [==============================] - 1s 3ms/step - loss: 0.2895 - accuracy: 0.8834\n",
      "Epoch 6/50\n",
      "188/188 [==============================] - 1s 3ms/step - loss: 0.2324 - accuracy: 0.9150\n",
      "Epoch 7/50\n",
      "188/188 [==============================] - 1s 3ms/step - loss: 0.1932 - accuracy: 0.9264\n",
      "Epoch 8/50\n",
      "188/188 [==============================] - 1s 3ms/step - loss: 0.1531 - accuracy: 0.9407\n",
      "Epoch 9/50\n",
      "188/188 [==============================] - 1s 3ms/step - loss: 0.1306 - accuracy: 0.9549\n",
      "Epoch 10/50\n",
      "188/188 [==============================] - 1s 3ms/step - loss: 0.1032 - accuracy: 0.9639\n",
      "Epoch 11/50\n",
      "188/188 [==============================] - 1s 3ms/step - loss: 0.1092 - accuracy: 0.9628\n",
      "Epoch 12/50\n",
      "188/188 [==============================] - 1s 3ms/step - loss: 0.0773 - accuracy: 0.9707\n",
      "Epoch 13/50\n",
      "188/188 [==============================] - 1s 3ms/step - loss: 0.0732 - accuracy: 0.9707\n",
      "Epoch 14/50\n",
      "188/188 [==============================] - 1s 3ms/step - loss: 0.0939 - accuracy: 0.9653\n",
      "Epoch 15/50\n",
      "188/188 [==============================] - 1s 3ms/step - loss: 0.1595 - accuracy: 0.9457\n",
      "Epoch 16/50\n",
      "188/188 [==============================] - 1s 3ms/step - loss: 0.0772 - accuracy: 0.9716\n",
      "Epoch 17/50\n",
      "188/188 [==============================] - 1s 3ms/step - loss: 0.0678 - accuracy: 0.9768\n",
      "Epoch 18/50\n",
      "188/188 [==============================] - 1s 3ms/step - loss: 0.0555 - accuracy: 0.9806\n",
      "Epoch 19/50\n",
      "188/188 [==============================] - 1s 3ms/step - loss: 0.0403 - accuracy: 0.9839\n",
      "Epoch 20/50\n",
      "188/188 [==============================] - 1s 3ms/step - loss: 0.0952 - accuracy: 0.9692\n",
      "Epoch 21/50\n",
      "188/188 [==============================] - 1s 3ms/step - loss: 0.0479 - accuracy: 0.9831\n",
      "Epoch 22/50\n",
      "188/188 [==============================] - 1s 3ms/step - loss: 0.0298 - accuracy: 0.9904\n",
      "Epoch 23/50\n",
      "188/188 [==============================] - 1s 3ms/step - loss: 0.0312 - accuracy: 0.9910\n",
      "Epoch 24/50\n",
      "188/188 [==============================] - 1s 3ms/step - loss: 0.1172 - accuracy: 0.9611\n",
      "Epoch 25/50\n",
      "188/188 [==============================] - 1s 3ms/step - loss: 0.0478 - accuracy: 0.9832\n",
      "Epoch 26/50\n",
      "188/188 [==============================] - 1s 3ms/step - loss: 0.0599 - accuracy: 0.9792\n",
      "Epoch 27/50\n",
      "188/188 [==============================] - 1s 3ms/step - loss: 0.0796 - accuracy: 0.9748\n",
      "Epoch 28/50\n",
      "188/188 [==============================] - 1s 3ms/step - loss: 0.0275 - accuracy: 0.9907\n",
      "Epoch 29/50\n",
      "188/188 [==============================] - 1s 3ms/step - loss: 0.0379 - accuracy: 0.9866\n",
      "Epoch 30/50\n",
      "188/188 [==============================] - 1s 3ms/step - loss: 0.0633 - accuracy: 0.9797\n",
      "Epoch 31/50\n",
      "188/188 [==============================] - 1s 3ms/step - loss: 0.0526 - accuracy: 0.9824\n",
      "Epoch 32/50\n",
      "188/188 [==============================] - 1s 3ms/step - loss: 0.0681 - accuracy: 0.9771\n",
      "Epoch 33/50\n",
      "188/188 [==============================] - 1s 3ms/step - loss: 0.0589 - accuracy: 0.9788\n",
      "Epoch 34/50\n",
      "188/188 [==============================] - 1s 3ms/step - loss: 0.0228 - accuracy: 0.9913\n",
      "Epoch 35/50\n",
      "188/188 [==============================] - 1s 3ms/step - loss: 0.0142 - accuracy: 0.9942\n",
      "Epoch 36/50\n",
      "188/188 [==============================] - 1s 3ms/step - loss: 0.0513 - accuracy: 0.9829\n",
      "Epoch 37/50\n",
      "188/188 [==============================] - 1s 3ms/step - loss: 0.0094 - accuracy: 0.9971\n",
      "Epoch 38/50\n",
      "188/188 [==============================] - 1s 3ms/step - loss: 0.0172 - accuracy: 0.9958\n",
      "Epoch 39/50\n",
      "188/188 [==============================] - 1s 3ms/step - loss: 0.1802 - accuracy: 0.9480\n",
      "Epoch 40/50\n",
      "188/188 [==============================] - 1s 3ms/step - loss: 0.0423 - accuracy: 0.9884\n",
      "Epoch 41/50\n",
      "188/188 [==============================] - 1s 3ms/step - loss: 0.0160 - accuracy: 0.9955\n",
      "Epoch 42/50\n",
      "188/188 [==============================] - 1s 3ms/step - loss: 0.0270 - accuracy: 0.9921\n",
      "Epoch 43/50\n",
      "188/188 [==============================] - 1s 3ms/step - loss: 0.0686 - accuracy: 0.9753\n",
      "Epoch 44/50\n",
      "188/188 [==============================] - 1s 3ms/step - loss: 0.0276 - accuracy: 0.9914\n",
      "Epoch 45/50\n",
      "188/188 [==============================] - 1s 3ms/step - loss: 0.0448 - accuracy: 0.9883\n",
      "Epoch 46/50\n",
      "188/188 [==============================] - 1s 3ms/step - loss: 0.0230 - accuracy: 0.9930\n",
      "Epoch 47/50\n",
      "188/188 [==============================] - 1s 3ms/step - loss: 0.0111 - accuracy: 0.9963\n",
      "Epoch 48/50\n",
      "188/188 [==============================] - 1s 3ms/step - loss: 0.0614 - accuracy: 0.9825\n",
      "Epoch 49/50\n",
      "188/188 [==============================] - 1s 3ms/step - loss: 0.0210 - accuracy: 0.9911\n",
      "Epoch 50/50\n",
      "188/188 [==============================] - 1s 3ms/step - loss: 0.0024 - accuracy: 0.9997\n"
     ]
    },
    {
     "data": {
      "text/plain": [
       "<tensorflow.python.keras.callbacks.History at 0x7f18ac8d9050>"
      ]
     },
     "execution_count": 16,
     "metadata": {},
     "output_type": "execute_result"
    }
   ],
   "source": [
    "# 학습\n",
    "\n",
    "model.compile(optimizer='adam',\n",
    "             loss='sparse_categorical_crossentropy',\n",
    "             metrics=['accuracy'])\n",
    "\n",
    "model.fit(x_train, y_train, epochs=n_train_epoch)"
   ]
  },
  {
   "cell_type": "code",
   "execution_count": 17,
   "id": "scientific-treatment",
   "metadata": {},
   "outputs": [
    {
     "name": "stdout",
     "output_type": "stream",
     "text": [
      "100  images to be resized.\n",
      "100  images resized.\n",
      "100  images to be resized.\n",
      "100  images resized.\n",
      "100  images to be resized.\n",
      "100  images resized.\n",
      "\n",
      "\n",
      "테스트(x_test)의 이미지 개수:  300\n",
      "x_test shape: (300, 28, 28, 3)\n",
      "y_test shape: (300,)\n"
     ]
    }
   ],
   "source": [
    "# 테스트\n",
    "\n",
    "# resize\n",
    "\n",
    "# 보\n",
    "image_dir_path = os.getenv(\"HOME\") + \"/aiffel/rock_scissor_paper/test/test_paper/\"\n",
    "resize_images(image_dir_path)\n",
    "\n",
    "# 가위 \n",
    "image_dir_path = os.getenv(\"HOME\") + \"/aiffel/rock_scissor_paper/test/test_scissor/\"\n",
    "resize_images(image_dir_path)\n",
    "\n",
    "# 바위\n",
    "image_dir_path = os.getenv(\"HOME\") + \"/aiffel/rock_scissor_paper/test/test_rock/\"\n",
    "resize_images(image_dir_path)\n",
    "\n",
    "print('\\n')\n",
    "\n",
    "# x_test, y_test를 만드는 방법은 x_train, y_train을 만드는 방법과 아주 유사합니다.\n",
    "def load_data(img_path, number_of_data=300):  # 가위바위보 이미지 개수 총합에 주의하세요.\n",
    "    # 가위 : 0, 바위 : 1, 보 : 2\n",
    "    img_size=28\n",
    "    color=3\n",
    "    #이미지 데이터와 라벨(가위 : 0, 바위 : 1, 보 : 2) 데이터를 담을 행렬(matrix) 영역을 생성합니다.\n",
    "    imgs=np.zeros(number_of_data*img_size*img_size*color,dtype=np.int32).reshape(number_of_data,img_size,img_size,color)\n",
    "    labels=np.zeros(number_of_data,dtype=np.int32)\n",
    "\n",
    "    idx=0\n",
    "    \n",
    "    for file in glob.iglob(img_path+'/test_scissor/*.jpg'):\n",
    "        img = np.array(Image.open(file),dtype=np.int32)\n",
    "        imgs[idx,:,:,:]=img    # 데이터 영역에 이미지 행렬을 복사\n",
    "        labels[idx]=0   # 가위 : 0\n",
    "        idx=idx+1\n",
    "\n",
    "    for file in glob.iglob(img_path+'/test_rock/*.jpg'):\n",
    "        img = np.array(Image.open(file),dtype=np.int32)\n",
    "        imgs[idx,:,:,:]=img    # 데이터 영역에 이미지 행렬을 복사\n",
    "        labels[idx]=1   # 바위 : 1\n",
    "        idx=idx+1  \n",
    "    \n",
    "    for file in glob.iglob(img_path+'/test_paper/*.jpg'):\n",
    "        img = np.array(Image.open(file),dtype=np.int32)\n",
    "        imgs[idx,:,:,:]=img    # 데이터 영역에 이미지 행렬을 복사\n",
    "        labels[idx]=2   # 보 : 2\n",
    "        idx=idx+1\n",
    "        \n",
    "    print(\"테스트(x_test)의 이미지 개수: \", idx)\n",
    "    return imgs, labels\n",
    "\n",
    "image_dir_path = os.getenv(\"HOME\") + \"/aiffel/rock_scissor_paper/test\"\n",
    "(x_test, y_test)=load_data(image_dir_path)\n",
    "x_test_norm = x_test/255.0   # 입력은 0~1 사이의 값으로 정규화\n",
    "\n",
    "print(\"x_test shape: {}\".format(x_test.shape))\n",
    "print(\"y_test shape: {}\".format(y_test.shape))"
   ]
  },
  {
   "cell_type": "code",
   "execution_count": 18,
   "id": "developing-newcastle",
   "metadata": {},
   "outputs": [
    {
     "name": "stdout",
     "output_type": "stream",
     "text": [
      "10/10 - 0s - loss: 1.8899 - accuracy: 0.8267\n",
      "test_loss: 1.8899182081222534 \n",
      "test_accuracy: 0.8266666531562805\n"
     ]
    }
   ],
   "source": [
    "test_loss, test_accuracy = model.evaluate(x_test, y_test, verbose=2)\n",
    "print(\"test_loss: {} \".format(test_loss))\n",
    "print(\"test_accuracy: {}\".format(test_accuracy))"
   ]
  },
  {
   "cell_type": "code",
   "execution_count": null,
   "id": "polar-holmes",
   "metadata": {},
   "outputs": [],
   "source": []
  },
  {
   "cell_type": "code",
   "execution_count": null,
   "id": "opposed-tokyo",
   "metadata": {},
   "outputs": [],
   "source": []
  },
  {
   "cell_type": "code",
   "execution_count": null,
   "id": "entitled-stanley",
   "metadata": {},
   "outputs": [],
   "source": []
  },
  {
   "cell_type": "code",
   "execution_count": null,
   "id": "irish-underground",
   "metadata": {},
   "outputs": [],
   "source": []
  },
  {
   "cell_type": "code",
   "execution_count": null,
   "id": "fluid-rescue",
   "metadata": {},
   "outputs": [],
   "source": []
  },
  {
   "cell_type": "code",
   "execution_count": null,
   "id": "demonstrated-intellectual",
   "metadata": {},
   "outputs": [],
   "source": []
  },
  {
   "cell_type": "code",
   "execution_count": null,
   "id": "purple-cream",
   "metadata": {},
   "outputs": [],
   "source": []
  },
  {
   "cell_type": "code",
   "execution_count": null,
   "id": "technological-battlefield",
   "metadata": {},
   "outputs": [],
   "source": []
  },
  {
   "cell_type": "code",
   "execution_count": null,
   "id": "portuguese-queensland",
   "metadata": {},
   "outputs": [],
   "source": []
  },
  {
   "cell_type": "code",
   "execution_count": null,
   "id": "modular-contest",
   "metadata": {},
   "outputs": [],
   "source": []
  },
  {
   "cell_type": "code",
   "execution_count": null,
   "id": "sensitive-banner",
   "metadata": {},
   "outputs": [],
   "source": []
  },
  {
   "cell_type": "code",
   "execution_count": null,
   "id": "known-integral",
   "metadata": {},
   "outputs": [],
   "source": []
  },
  {
   "cell_type": "code",
   "execution_count": null,
   "id": "killing-equipment",
   "metadata": {},
   "outputs": [],
   "source": []
  }
 ],
 "metadata": {
  "kernelspec": {
   "display_name": "Python 3",
   "language": "python",
   "name": "python3"
  },
  "language_info": {
   "codemirror_mode": {
    "name": "ipython",
    "version": 3
   },
   "file_extension": ".py",
   "mimetype": "text/x-python",
   "name": "python",
   "nbconvert_exporter": "python",
   "pygments_lexer": "ipython3",
   "version": "3.7.9"
  }
 },
 "nbformat": 4,
 "nbformat_minor": 5
}
